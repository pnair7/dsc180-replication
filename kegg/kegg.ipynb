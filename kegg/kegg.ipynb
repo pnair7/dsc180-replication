{
 "cells": [
  {
   "cell_type": "code",
   "execution_count": 1,
   "id": "geological-fiction",
   "metadata": {},
   "outputs": [],
   "source": [
    "from urllib.request import urlopen\n",
    "from bs4 import BeautifulSoup\n",
    "from Bio.KEGG.KGML.KGML_parser import read\n",
    "import pandas as pd\n",
    "import os\n",
    "from collections import defaultdict\n",
    "from tqdm import tqdm\n",
    "import requests\n",
    "import networkx as nx\n",
    "import numpy as np"
   ]
  },
  {
   "cell_type": "code",
   "execution_count": 2,
   "id": "sharing-blade",
   "metadata": {},
   "outputs": [],
   "source": [
    "# url = 'http://rest.kegg.jp/link/hsa/pathway'\n",
    "# html = urlopen(url).read().decode(\"utf-8\")"
   ]
  },
  {
   "cell_type": "code",
   "execution_count": 3,
   "id": "compressed-invitation",
   "metadata": {},
   "outputs": [],
   "source": [
    "# soup = BeautifulSoup(html, 'html.parser')"
   ]
  },
  {
   "cell_type": "code",
   "execution_count": 4,
   "id": "genetic-shore",
   "metadata": {},
   "outputs": [],
   "source": [
    "# finding KEGG ID's of every gene (?) here\n",
    "kegg_dict = {\n",
    "    'Zap70' : 7535,\n",
    "    'SHP2' : 5781,\n",
    "    'Stat1' : 6772,\n",
    "    'Akt' : 207,\n",
    "    'Stat5a' : 6776,\n",
    "    'Stat5b' : 6777,\n",
    "    'p38' : 1432,\n",
    "    'NFkB1' : 4790,\n",
    "    'NFKB2' : 4791,\n",
    "    'NFkBIA' : 4792,\n",
    "    'S6' : 6194,\n",
    "    'Lat' : 27040,\n",
    "    'Erk' : 5594,\n",
    "    'Plcg2' : 5336,\n",
    "    'Btk' : 695,\n",
    "    'Slp76' : 3937,\n",
    "    'Stat3' : 6774\n",
    "}"
   ]
  },
  {
   "cell_type": "code",
   "execution_count": null,
   "id": "nutritional-scanner",
   "metadata": {},
   "outputs": [],
   "source": []
  },
  {
   "cell_type": "code",
   "execution_count": 6,
   "id": "partial-tumor",
   "metadata": {},
   "outputs": [],
   "source": [
    "# pathways = []\n",
    "# for line in html.split('\\n'):\n",
    "#     for kegg_id in kegg_dict.values():\n",
    "#         if ('hsa:' + str(kegg_id)) in line:\n",
    "#             pathway = line.split('\\t')[0]\n",
    "#             pathways.append(pathway)\n",
    "# pathways = list(set(pathways))"
   ]
  },
  {
   "cell_type": "code",
   "execution_count": 7,
   "id": "completed-benchmark",
   "metadata": {},
   "outputs": [],
   "source": [
    "# len(pathways)"
   ]
  },
  {
   "cell_type": "code",
   "execution_count": 8,
   "id": "welcome-railway",
   "metadata": {},
   "outputs": [],
   "source": [
    "# pathways[:5]"
   ]
  },
  {
   "cell_type": "code",
   "execution_count": 9,
   "id": "disciplinary-behavior",
   "metadata": {},
   "outputs": [],
   "source": [
    "# # files persisted\n",
    "# for pathway in tqdm(pathways):\n",
    "#     url = 'http://rest.kegg.jp/get/' + pathway.split(':')[1] + '/kgml'\n",
    "#     response = requests.get(url)\n",
    "#     with open('pathways/' + pathway.split(':')[1] + '.xml', 'wb') as file:\n",
    "#         file.write(response.content)"
   ]
  },
  {
   "cell_type": "code",
   "execution_count": 10,
   "id": "daily-fitting",
   "metadata": {},
   "outputs": [],
   "source": [
    "test_pathway = read(open('pathways/hsa04270.xml', 'r'))"
   ]
  },
  {
   "cell_type": "code",
   "execution_count": 11,
   "id": "random-purple",
   "metadata": {},
   "outputs": [
    {
     "data": {
      "text/plain": [
       "'hsa:5592'"
      ]
     },
     "execution_count": 11,
     "metadata": {},
     "output_type": "execute_result"
    }
   ],
   "source": [
    "test_pathway.relations[0].entry1.name"
   ]
  },
  {
   "cell_type": "code",
   "execution_count": 12,
   "id": "signal-regulation",
   "metadata": {},
   "outputs": [],
   "source": [
    "gene_hsa = ['hsa:' + str(val) for val in kegg_dict.values()]\n",
    "gene_hsa_dict = {('hsa:' + str(v)) : k for k,v in kegg_dict.items()}"
   ]
  },
  {
   "cell_type": "code",
   "execution_count": 13,
   "id": "bearing-barcelona",
   "metadata": {},
   "outputs": [
    {
     "name": "stderr",
     "output_type": "stream",
     "text": [
      "100%|███████████████████████████████████████████████████████████████████████████████| 167/167 [00:01<00:00, 139.71it/s]\n"
     ]
    }
   ],
   "source": [
    "link_list = []\n",
    "for kgml in tqdm(os.listdir('pathways/')):\n",
    "    # check for xml\n",
    "    if kgml[-4:] != '.xml':\n",
    "        continue\n",
    "    path_name = kgml[:-4]\n",
    "    \n",
    "    # read file\n",
    "    path = read(open('pathways/' + kgml, 'r'))\n",
    "    \n",
    "    # iterate through edges\n",
    "    for rel in path.relations:\n",
    "        link_list.append({\n",
    "            'pathway' : path_name,\n",
    "            'entry1' : rel.entry1.name,\n",
    "            'entry2' : rel.entry2.name,\n",
    "            'type' : rel.type,\n",
    "            'subtype' : rel.subtypes\n",
    "        })"
   ]
  },
  {
   "cell_type": "code",
   "execution_count": 14,
   "id": "timely-berry",
   "metadata": {},
   "outputs": [
    {
     "data": {
      "text/html": [
       "<div>\n",
       "<style scoped>\n",
       "    .dataframe tbody tr th:only-of-type {\n",
       "        vertical-align: middle;\n",
       "    }\n",
       "\n",
       "    .dataframe tbody tr th {\n",
       "        vertical-align: top;\n",
       "    }\n",
       "\n",
       "    .dataframe thead th {\n",
       "        text-align: right;\n",
       "    }\n",
       "</style>\n",
       "<table border=\"1\" class=\"dataframe\">\n",
       "  <thead>\n",
       "    <tr style=\"text-align: right;\">\n",
       "      <th></th>\n",
       "      <th>pathway</th>\n",
       "      <th>entry1</th>\n",
       "      <th>entry2</th>\n",
       "      <th>type</th>\n",
       "      <th>subtype</th>\n",
       "    </tr>\n",
       "  </thead>\n",
       "  <tbody>\n",
       "    <tr>\n",
       "      <th>0</th>\n",
       "      <td>hsa00010</td>\n",
       "      <td>hsa:218 hsa:221 hsa:222</td>\n",
       "      <td>hsa:10327</td>\n",
       "      <td>ECrel</td>\n",
       "      <td>[(compound, 105)]</td>\n",
       "    </tr>\n",
       "    <tr>\n",
       "      <th>1</th>\n",
       "      <td>hsa00010</td>\n",
       "      <td>hsa:83440</td>\n",
       "      <td>hsa:2821</td>\n",
       "      <td>ECrel</td>\n",
       "      <td>[(compound, 93)]</td>\n",
       "    </tr>\n",
       "    <tr>\n",
       "      <th>2</th>\n",
       "      <td>hsa00010</td>\n",
       "      <td>hsa:5313 hsa:5315</td>\n",
       "      <td>hsa:2023 hsa:2026 hsa:2027 hsa:387712</td>\n",
       "      <td>ECrel</td>\n",
       "      <td>[(compound, 96)]</td>\n",
       "    </tr>\n",
       "    <tr>\n",
       "      <th>3</th>\n",
       "      <td>hsa00010</td>\n",
       "      <td>hsa:130589</td>\n",
       "      <td>hsa:83440</td>\n",
       "      <td>ECrel</td>\n",
       "      <td>[(compound, 90)]</td>\n",
       "    </tr>\n",
       "    <tr>\n",
       "      <th>4</th>\n",
       "      <td>hsa00010</td>\n",
       "      <td>hsa:2203 hsa:8789</td>\n",
       "      <td>hsa:2821</td>\n",
       "      <td>ECrel</td>\n",
       "      <td>[(compound, 95)]</td>\n",
       "    </tr>\n",
       "    <tr>\n",
       "      <th>...</th>\n",
       "      <td>...</td>\n",
       "      <td>...</td>\n",
       "      <td>...</td>\n",
       "      <td>...</td>\n",
       "      <td>...</td>\n",
       "    </tr>\n",
       "    <tr>\n",
       "      <th>12005</th>\n",
       "      <td>hsa05418</td>\n",
       "      <td>hsa:10365</td>\n",
       "      <td>hsa:8878</td>\n",
       "      <td>GErel</td>\n",
       "      <td>[(expression, --&gt;)]</td>\n",
       "    </tr>\n",
       "    <tr>\n",
       "      <th>12006</th>\n",
       "      <td>hsa05418</td>\n",
       "      <td>hsa:4780</td>\n",
       "      <td>hsa:1728</td>\n",
       "      <td>GErel</td>\n",
       "      <td>[(expression, --&gt;)]</td>\n",
       "    </tr>\n",
       "    <tr>\n",
       "      <th>12007</th>\n",
       "      <td>hsa05418</td>\n",
       "      <td>hsa:2353 hsa:3725</td>\n",
       "      <td>hsa:7124</td>\n",
       "      <td>GErel</td>\n",
       "      <td>[(expression, --&gt;)]</td>\n",
       "    </tr>\n",
       "    <tr>\n",
       "      <th>12008</th>\n",
       "      <td>hsa05418</td>\n",
       "      <td>hsa:2353 hsa:3725</td>\n",
       "      <td>hsa:3383</td>\n",
       "      <td>GErel</td>\n",
       "      <td>[(expression, --&gt;)]</td>\n",
       "    </tr>\n",
       "    <tr>\n",
       "      <th>12009</th>\n",
       "      <td>hsa05418</td>\n",
       "      <td>hsa:4846</td>\n",
       "      <td>cpd:C00533</td>\n",
       "      <td>PCrel</td>\n",
       "      <td>[(activation, --&gt;)]</td>\n",
       "    </tr>\n",
       "  </tbody>\n",
       "</table>\n",
       "<p>10831 rows × 5 columns</p>\n",
       "</div>"
      ],
      "text/plain": [
       "        pathway                   entry1  \\\n",
       "0      hsa00010  hsa:218 hsa:221 hsa:222   \n",
       "1      hsa00010                hsa:83440   \n",
       "2      hsa00010        hsa:5313 hsa:5315   \n",
       "3      hsa00010               hsa:130589   \n",
       "4      hsa00010        hsa:2203 hsa:8789   \n",
       "...         ...                      ...   \n",
       "12005  hsa05418                hsa:10365   \n",
       "12006  hsa05418                 hsa:4780   \n",
       "12007  hsa05418        hsa:2353 hsa:3725   \n",
       "12008  hsa05418        hsa:2353 hsa:3725   \n",
       "12009  hsa05418                 hsa:4846   \n",
       "\n",
       "                                      entry2   type              subtype  \n",
       "0                                  hsa:10327  ECrel    [(compound, 105)]  \n",
       "1                                   hsa:2821  ECrel     [(compound, 93)]  \n",
       "2      hsa:2023 hsa:2026 hsa:2027 hsa:387712  ECrel     [(compound, 96)]  \n",
       "3                                  hsa:83440  ECrel     [(compound, 90)]  \n",
       "4                                   hsa:2821  ECrel     [(compound, 95)]  \n",
       "...                                      ...    ...                  ...  \n",
       "12005                               hsa:8878  GErel  [(expression, -->)]  \n",
       "12006                               hsa:1728  GErel  [(expression, -->)]  \n",
       "12007                               hsa:7124  GErel  [(expression, -->)]  \n",
       "12008                               hsa:3383  GErel  [(expression, -->)]  \n",
       "12009                             cpd:C00533  PCrel  [(activation, -->)]  \n",
       "\n",
       "[10831 rows x 5 columns]"
      ]
     },
     "execution_count": 14,
     "metadata": {},
     "output_type": "execute_result"
    }
   ],
   "source": [
    "links = pd.DataFrame(link_list)\n",
    "links = links[(links['entry1'] != 'undefined') & (links['entry2'] != 'undefined')]\n",
    "links"
   ]
  },
  {
   "cell_type": "code",
   "execution_count": null,
   "id": "annoying-holder",
   "metadata": {},
   "outputs": [],
   "source": []
  },
  {
   "cell_type": "code",
   "execution_count": 15,
   "id": "hawaiian-madagascar",
   "metadata": {},
   "outputs": [
    {
     "name": "stderr",
     "output_type": "stream",
     "text": [
      "100%|███████████████████████████████████████████████████████████████████████████████| 160/160 [00:01<00:00, 119.04it/s]\n"
     ]
    }
   ],
   "source": [
    "# create a graph for each pathway from links\n",
    "all_paths = {}\n",
    "for kegg_path in tqdm(np.unique(links['pathway'])):\n",
    "    G = nx.DiGraph()\n",
    "    for i in list(links[links['pathway'] == kegg_path].index):\n",
    "        row = links.loc[i]\n",
    "        G.add_edge(row['entry1'], row['entry2'])\n",
    "    all_paths[kegg_path] = (nx.algorithms.shortest_path(G))"
   ]
  },
  {
   "cell_type": "code",
   "execution_count": null,
   "id": "respiratory-differential",
   "metadata": {},
   "outputs": [],
   "source": []
  },
  {
   "cell_type": "code",
   "execution_count": 17,
   "id": "worldwide-electric",
   "metadata": {},
   "outputs": [
    {
     "name": "stderr",
     "output_type": "stream",
     "text": [
      "100%|██████████████████████████████████████████████████████████████████████████████| 160/160 [00:00<00:00, 4196.51it/s]\n"
     ]
    }
   ],
   "source": [
    "counter = 0\n",
    "for pathway in tqdm(all_paths):\n",
    "    pathway_paths = all_paths[pathway]\n",
    "    keys = list(pathway_paths.keys())\n",
    "    for key in keys:\n",
    "        # check if source node is relevant protein\n",
    "        relevant = False\n",
    "        for gene in gene_hsa:\n",
    "            if gene in key:\n",
    "                relevant = True\n",
    "                # now check if target relevant\n",
    "                for key2 in list(pathway_paths[key].keys()):\n",
    "                    relevant2 = False\n",
    "                    for gene in gene_hsa:\n",
    "                        if gene in key2:\n",
    "                            relevant2 = True\n",
    "                    if not relevant2:\n",
    "                        # if target not relevant, remove it from dict\n",
    "                        pathway_paths[key].pop(key2)\n",
    "        if not relevant:\n",
    "            # if source not relevant, remove it from dict\n",
    "            pathway_paths.pop(key)"
   ]
  },
  {
   "cell_type": "code",
   "execution_count": 18,
   "id": "written-imperial",
   "metadata": {},
   "outputs": [],
   "source": [
    "def find_node(node_name):\n",
    "    '''\n",
    "    Given a string like 'hsa:2023 hsa:2026 hsa:2027 hsa:387712', return which proteins match\n",
    "    '''\n",
    "    proteins = []\n",
    "    for protein in gene_hsa_dict.keys():\n",
    "        if protein in node_name:\n",
    "            proteins.append(gene_hsa_dict[protein])\n",
    "    return proteins"
   ]
  },
  {
   "cell_type": "code",
   "execution_count": 19,
   "id": "tamil-promotion",
   "metadata": {},
   "outputs": [],
   "source": [
    "relevant_links = []\n",
    "for pw in all_paths.keys():\n",
    "    pathway = all_paths[pw]\n",
    "    for node1 in pathway.keys():\n",
    "        for node2 in pathway[node1].keys():\n",
    "            node1_proteins = find_node(node1)\n",
    "            node2_proteins = find_node(node2)\n",
    "            for protein in node1_proteins:\n",
    "                for protein2 in node2_proteins:\n",
    "                    relevant_links.append({\n",
    "                        'node1' : protein,\n",
    "                        'node2' : protein2,\n",
    "                        'pathway' : pw,\n",
    "                        'path': pathway[node1][node2]\n",
    "                    })\n",
    "relevant_links = pd.DataFrame(relevant_links)\n",
    "relevant_links = relevant_links[relevant_links['node1'] != relevant_links['node2']].reset_index(drop = True)\n",
    "relevant_links.to_csv('kegg_links.csv', index = False)"
   ]
  },
  {
   "cell_type": "code",
   "execution_count": 20,
   "id": "square-liquid",
   "metadata": {},
   "outputs": [
    {
     "data": {
      "text/html": [
       "<div>\n",
       "<style scoped>\n",
       "    .dataframe tbody tr th:only-of-type {\n",
       "        vertical-align: middle;\n",
       "    }\n",
       "\n",
       "    .dataframe tbody tr th {\n",
       "        vertical-align: top;\n",
       "    }\n",
       "\n",
       "    .dataframe thead th {\n",
       "        text-align: right;\n",
       "    }\n",
       "</style>\n",
       "<table border=\"1\" class=\"dataframe\">\n",
       "  <thead>\n",
       "    <tr style=\"text-align: right;\">\n",
       "      <th></th>\n",
       "      <th>node1</th>\n",
       "      <th>node2</th>\n",
       "      <th>pathway</th>\n",
       "      <th>path</th>\n",
       "    </tr>\n",
       "  </thead>\n",
       "  <tbody>\n",
       "    <tr>\n",
       "      <th>0</th>\n",
       "      <td>Plcg2</td>\n",
       "      <td>Erk</td>\n",
       "      <td>hsa01521</td>\n",
       "      <td>[hsa:5335 hsa:5336, cpd:C00165, hsa:5578 hsa:5...</td>\n",
       "    </tr>\n",
       "    <tr>\n",
       "      <th>1</th>\n",
       "      <td>Akt</td>\n",
       "      <td>S6</td>\n",
       "      <td>hsa01521</td>\n",
       "      <td>[hsa:10000 hsa:207 hsa:208, hsa:2475, hsa:6198...</td>\n",
       "    </tr>\n",
       "    <tr>\n",
       "      <th>2</th>\n",
       "      <td>Akt</td>\n",
       "      <td>Erk</td>\n",
       "      <td>hsa01522</td>\n",
       "      <td>[hsa:10000 hsa:207 hsa:208, hsa:2475, hsa:6198...</td>\n",
       "    </tr>\n",
       "    <tr>\n",
       "      <th>3</th>\n",
       "      <td>p38</td>\n",
       "      <td>Akt</td>\n",
       "      <td>hsa01522</td>\n",
       "      <td>[hsa:1432 hsa:5600 hsa:5603 hsa:6300, hsa:1049...</td>\n",
       "    </tr>\n",
       "    <tr>\n",
       "      <th>4</th>\n",
       "      <td>p38</td>\n",
       "      <td>Erk</td>\n",
       "      <td>hsa01522</td>\n",
       "      <td>[hsa:1432 hsa:5600 hsa:5603 hsa:6300, hsa:1049...</td>\n",
       "    </tr>\n",
       "    <tr>\n",
       "      <th>...</th>\n",
       "      <td>...</td>\n",
       "      <td>...</td>\n",
       "      <td>...</td>\n",
       "      <td>...</td>\n",
       "    </tr>\n",
       "    <tr>\n",
       "      <th>533</th>\n",
       "      <td>Stat1</td>\n",
       "      <td>Stat3</td>\n",
       "      <td>hsa05321</td>\n",
       "      <td>[hsa:6772, hsa:30009, hsa:3595, hsa:8807 hsa:8...</td>\n",
       "    </tr>\n",
       "    <tr>\n",
       "      <th>534</th>\n",
       "      <td>NFkBIA</td>\n",
       "      <td>NFkB1</td>\n",
       "      <td>hsa05417</td>\n",
       "      <td>[hsa:4792, hsa:4790 hsa:5970]</td>\n",
       "    </tr>\n",
       "    <tr>\n",
       "      <th>535</th>\n",
       "      <td>p38</td>\n",
       "      <td>NFkB1</td>\n",
       "      <td>hsa05417</td>\n",
       "      <td>[hsa:1432 hsa:5600 hsa:5603 hsa:6300, hsa:4790...</td>\n",
       "    </tr>\n",
       "    <tr>\n",
       "      <th>536</th>\n",
       "      <td>Erk</td>\n",
       "      <td>NFkB1</td>\n",
       "      <td>hsa05417</td>\n",
       "      <td>[hsa:5594 hsa:5595, hsa:4790 hsa:5970]</td>\n",
       "    </tr>\n",
       "    <tr>\n",
       "      <th>537</th>\n",
       "      <td>Erk</td>\n",
       "      <td>p38</td>\n",
       "      <td>hsa05417</td>\n",
       "      <td>[hsa:5594 hsa:5595, hsa:5906 hsa:5908, hsa:587...</td>\n",
       "    </tr>\n",
       "  </tbody>\n",
       "</table>\n",
       "<p>538 rows × 4 columns</p>\n",
       "</div>"
      ],
      "text/plain": [
       "      node1  node2   pathway  \\\n",
       "0     Plcg2    Erk  hsa01521   \n",
       "1       Akt     S6  hsa01521   \n",
       "2       Akt    Erk  hsa01522   \n",
       "3       p38    Akt  hsa01522   \n",
       "4       p38    Erk  hsa01522   \n",
       "..      ...    ...       ...   \n",
       "533   Stat1  Stat3  hsa05321   \n",
       "534  NFkBIA  NFkB1  hsa05417   \n",
       "535     p38  NFkB1  hsa05417   \n",
       "536     Erk  NFkB1  hsa05417   \n",
       "537     Erk    p38  hsa05417   \n",
       "\n",
       "                                                  path  \n",
       "0    [hsa:5335 hsa:5336, cpd:C00165, hsa:5578 hsa:5...  \n",
       "1    [hsa:10000 hsa:207 hsa:208, hsa:2475, hsa:6198...  \n",
       "2    [hsa:10000 hsa:207 hsa:208, hsa:2475, hsa:6198...  \n",
       "3    [hsa:1432 hsa:5600 hsa:5603 hsa:6300, hsa:1049...  \n",
       "4    [hsa:1432 hsa:5600 hsa:5603 hsa:6300, hsa:1049...  \n",
       "..                                                 ...  \n",
       "533  [hsa:6772, hsa:30009, hsa:3595, hsa:8807 hsa:8...  \n",
       "534                      [hsa:4792, hsa:4790 hsa:5970]  \n",
       "535  [hsa:1432 hsa:5600 hsa:5603 hsa:6300, hsa:4790...  \n",
       "536             [hsa:5594 hsa:5595, hsa:4790 hsa:5970]  \n",
       "537  [hsa:5594 hsa:5595, hsa:5906 hsa:5908, hsa:587...  \n",
       "\n",
       "[538 rows x 4 columns]"
      ]
     },
     "execution_count": 20,
     "metadata": {},
     "output_type": "execute_result"
    }
   ],
   "source": [
    "relevant_links"
   ]
  },
  {
   "cell_type": "code",
   "execution_count": null,
   "id": "herbal-argument",
   "metadata": {},
   "outputs": [],
   "source": []
  },
  {
   "cell_type": "code",
   "execution_count": null,
   "id": "maritime-flower",
   "metadata": {},
   "outputs": [],
   "source": []
  }
 ],
 "metadata": {
  "kernelspec": {
   "display_name": "Python 3",
   "language": "python",
   "name": "python3"
  },
  "language_info": {
   "codemirror_mode": {
    "name": "ipython",
    "version": 3
   },
   "file_extension": ".py",
   "mimetype": "text/x-python",
   "name": "python",
   "nbconvert_exporter": "python",
   "pygments_lexer": "ipython3",
   "version": "3.9.7"
  }
 },
 "nbformat": 4,
 "nbformat_minor": 5
}
